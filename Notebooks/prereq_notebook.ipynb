{
 "cells": [
  {
   "cell_type": "code",
   "execution_count": 11,
   "id": "4175b987",
   "metadata": {},
   "outputs": [
    {
     "name": "stdout",
     "output_type": "stream",
     "text": [
      "I'm experimenting with emojis 😀\n"
     ]
    }
   ],
   "source": [
    "import emoji\n",
    "print (emoji.emojize(\"I'm experimenting with emojis :grinning_face:\"))"
   ]
  },
  {
   "cell_type": "markdown",
   "id": "a8abb128",
   "metadata": {},
   "source": [
    "# About Me\n",
    "\n",
    "Hi, my name is Eugenia Duke. I have been an accountant for the last 25 years and would like to transition into a data analyst role.   \n",
    "I am excited to learn Python and apply it to data analysis tasks.  \n",
    "\n",
    "I am brand new to coding (with the exception of an intro SQL course and am nervous about this new journey.  I **love** digging into  \n",
    "issues and finding solutions, and I believe that data analysis will allow me to do that on a larger scale."
   ]
  }
 ],
 "metadata": {
  "kernelspec": {
   "display_name": "Python 3",
   "language": "python",
   "name": "python3"
  },
  "language_info": {
   "codemirror_mode": {
    "name": "ipython",
    "version": 3
   },
   "file_extension": ".py",
   "mimetype": "text/x-python",
   "name": "python",
   "nbconvert_exporter": "python",
   "pygments_lexer": "ipython3",
   "version": "3.13.4"
  }
 },
 "nbformat": 4,
 "nbformat_minor": 5
}
